{
 "cells": [
  {
   "cell_type": "markdown",
   "metadata": {},
   "source": [
    "# Importing the libraries"
   ]
  },
  {
   "cell_type": "code",
   "execution_count": 13,
   "metadata": {},
   "outputs": [],
   "source": [
    "import numpy as np"
   ]
  },
  {
   "cell_type": "markdown",
   "metadata": {},
   "source": [
    "# Defining generator vectors"
   ]
  },
  {
   "cell_type": "code",
   "execution_count": 15,
   "metadata": {},
   "outputs": [
    {
     "name": "stdin",
     "output_type": "stream",
     "text": [
      "Enter the number of generator sequences:  2\n"
     ]
    }
   ],
   "source": [
    "r = input(\"Enter the number of generator sequences: \")\n",
    "r = int(r)"
   ]
  },
  {
   "cell_type": "code",
   "execution_count": 16,
   "metadata": {},
   "outputs": [
    {
     "name": "stdout",
     "output_type": "stream",
     "text": [
      "Enter the genrator sequences\n"
     ]
    },
    {
     "name": "stdin",
     "output_type": "stream",
     "text": [
      " 1 1 1\n",
      " 1 0 1\n"
     ]
    }
   ],
   "source": [
    "print(\"Enter the genrator sequences\")\n",
    "g = np.array([input().strip().split() for _ in range(r)], int)"
   ]
  },
  {
   "cell_type": "markdown",
   "metadata": {},
   "source": [
    "# Taking mesaage bit input from user"
   ]
  },
  {
   "cell_type": "code",
   "execution_count": 17,
   "metadata": {},
   "outputs": [
    {
     "name": "stdin",
     "output_type": "stream",
     "text": [
      "Enter message bits:  1 0 0 1 1\n"
     ]
    }
   ],
   "source": [
    "d = np.array([input(\"Enter message bits: \").strip().split()], int)"
   ]
  },
  {
   "cell_type": "markdown",
   "metadata": {},
   "source": [
    "# Determining length of code vectors"
   ]
  },
  {
   "cell_type": "code",
   "execution_count": 24,
   "metadata": {},
   "outputs": [],
   "source": [
    "n = len(g.T) + len(d.T) - 1"
   ]
  },
  {
   "cell_type": "markdown",
   "metadata": {},
   "source": [
    "# Padding message bits with zeroes"
   ]
  },
  {
   "cell_type": "code",
   "execution_count": 25,
   "metadata": {},
   "outputs": [],
   "source": [
    "m_dash = np.zeros((1, (n - len(d.T))), int)"
   ]
  },
  {
   "cell_type": "code",
   "execution_count": 26,
   "metadata": {},
   "outputs": [],
   "source": [
    "m_prime = np.concatenate((d, m_dash), axis = 1)"
   ]
  },
  {
   "cell_type": "markdown",
   "metadata": {},
   "source": [
    "# Creating empty final code vector of size \n",
    "## Size of final code vector = size of code vector x number of code vectors"
   ]
  },
  {
   "cell_type": "code",
   "execution_count": 27,
   "metadata": {},
   "outputs": [],
   "source": [
    "c = np.empty((1, n*r), int)"
   ]
  },
  {
   "cell_type": "markdown",
   "metadata": {},
   "source": [
    "# Generating code vectors using modulo 2 addition (XOR) operation with generator vectors."
   ]
  },
  {
   "cell_type": "code",
   "execution_count": 28,
   "metadata": {},
   "outputs": [],
   "source": [
    "# Define shift registers with initial value 0\n",
    "m1 = 0\n",
    "m2 = 0\n",
    "m3 = 0\n",
    "# Define counter for creating final code vector\n",
    "j = 0\n",
    "# Define code vectors c1, c2, c3 with initial value 0\n",
    "c1 = np.zeros((r, n), int)\n",
    "\n",
    "for i in range(0, n):\n",
    "    m3 = m2\n",
    "    m2 = m1\n",
    "    m1 = m_prime[0, i]\n",
    "    for k in range(0, r):\n",
    "        c1[k, i] = g[k, 0]*m1 ^ g[k, 1]*m2 ^ g[k, 2]*m3\n",
    "# Append value to final code vector\n",
    "        c[0, j] = c1[k, i]\n",
    "        j += 1"
   ]
  },
  {
   "cell_type": "markdown",
   "metadata": {},
   "source": [
    "# Code vector output"
   ]
  },
  {
   "cell_type": "code",
   "execution_count": 29,
   "metadata": {},
   "outputs": [
    {
     "name": "stdout",
     "output_type": "stream",
     "text": [
      "Message bits entered by user: [[1 0 0 1 1]] \n",
      "Code vector: [[1 1 1 0 1 1 1 1 0 1 0 1 1 1]]\n"
     ]
    }
   ],
   "source": [
    "print(\"Message bits entered by user: {0} \\nCode vector: {1}\".format(d, c))"
   ]
  }
 ],
 "metadata": {
  "kernelspec": {
   "display_name": "Python 3",
   "language": "python",
   "name": "python3"
  },
  "language_info": {
   "codemirror_mode": {
    "name": "ipython",
    "version": 3
   },
   "file_extension": ".py",
   "mimetype": "text/x-python",
   "name": "python",
   "nbconvert_exporter": "python",
   "pygments_lexer": "ipython3",
   "version": "3.7.3"
  }
 },
 "nbformat": 4,
 "nbformat_minor": 4
}
